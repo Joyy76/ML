{
 "cells": [
  {
   "cell_type": "code",
   "execution_count": null,
   "metadata": {
    "id": "6ByB8hfH3bNr"
   },
   "outputs": [],
   "source": [
    "import numpy as np\n",
    "import pandas as pd\n",
    "import matplotlib.pyplot as plt\n",
    "import seaborn as sns"
   ]
  },
  {
   "cell_type": "code",
   "execution_count": null,
   "metadata": {
    "colab": {
     "base_uri": "https://localhost:8080/",
     "height": 423
    },
    "id": "iT2_U2mR32IV",
    "outputId": "00993bd4-8bcb-479e-f246-074f9ce33e1c"
   },
   "outputs": [],
   "source": [
    "data=pd.read_csv('drug200.csv')\n",
    "data"
   ]
  },
  {
   "cell_type": "code",
   "execution_count": null,
   "metadata": {
    "colab": {
     "base_uri": "https://localhost:8080/"
    },
    "id": "8AoTseqL4Oq-",
    "outputId": "fd8ad3dc-2ee6-4c1d-a99d-c7d42eea4bee"
   },
   "outputs": [],
   "source": [
    "data.info()"
   ]
  },
  {
   "cell_type": "code",
   "execution_count": null,
   "metadata": {
    "colab": {
     "base_uri": "https://localhost:8080/",
     "height": 586
    },
    "id": "qMA5MX9I5HL2",
    "outputId": "9171d8ed-be37-4915-b3b4-050bdd147a71"
   },
   "outputs": [],
   "source": [
    "sns.set_theme(style='darkgrid')\n",
    "sns.countplot(y='Drug', data=data, hue='Drug', palette='flare', legend=False)\n",
    "plt.ylabel('Drug Type')\n",
    "plt.xlabel('Total')"
   ]
  },
  {
   "cell_type": "code",
   "execution_count": null,
   "metadata": {
    "colab": {
     "base_uri": "https://localhost:8080/",
     "height": 476
    },
    "id": "ePuSNwXk56qi",
    "outputId": "198ce994-8905-4c0d-a72f-7cad3c9f62aa"
   },
   "outputs": [],
   "source": [
    "sns.set_theme(style='darkgrid')\n",
    "sns.countplot(x='Sex', hue='Drug', data=data, palette='flare')\n",
    "plt.ylabel('Total')\n",
    "plt.xlabel('Gender distribution')"
   ]
  },
  {
   "cell_type": "code",
   "execution_count": null,
   "metadata": {
    "colab": {
     "base_uri": "https://localhost:8080/",
     "height": 476
    },
    "id": "teflWrgO62Iy",
    "outputId": "b6a6338e-6369-4db0-e9e7-6b3001d9d6d3"
   },
   "outputs": [],
   "source": [
    "sns.set_theme(style='darkgrid')\n",
    "sns.countplot(y='BP', hue='Drug', data=data, palette='flare')\n",
    "plt.ylabel('BP')\n",
    "plt.xlabel('Total')"
   ]
  },
  {
   "cell_type": "code",
   "execution_count": null,
   "metadata": {
    "colab": {
     "base_uri": "https://localhost:8080/",
     "height": 521
    },
    "id": "fq9it18a7u-y",
    "outputId": "767e3340-8e3e-4b89-a39f-e17e0a9e6515"
   },
   "outputs": [],
   "source": [
    "pd.crosstab(data['BP'], data['Cholesterol']).plot(kind='bar', figsize=(15,6), color=['#6929c4','#1192e8'])\n",
    "plt.title('Cholesterol vs BP')\n",
    "plt.xlabel('BP')\n",
    "plt.ylabel('Frequency')"
   ]
  },
  {
   "cell_type": "code",
   "execution_count": null,
   "metadata": {
    "id": "MZsOEeTq98bd"
   },
   "outputs": [],
   "source": [
    "bin_age=[0,19,29,39,49,59,69,80]\n",
    "category_age=['<20s','20s','30s','40s','50s','60s','<60s']\n",
    "data['age_binned']=pd.cut(data['Age'], bins=bin_age, labels=category_age)\n",
    "data=data.drop(['Age'], axis=1)"
   ]
  },
  {
   "cell_type": "code",
   "execution_count": null,
   "metadata": {
    "colab": {
     "base_uri": "https://localhost:8080/",
     "height": 423
    },
    "id": "rjadqYCc_on1",
    "outputId": "f3ba395b-dae8-4a2e-8f94-7bab3d15f9a8"
   },
   "outputs": [],
   "source": [
    "data"
   ]
  },
  {
   "cell_type": "code",
   "execution_count": null,
   "metadata": {
    "id": "HkfZgx2e_pi1"
   },
   "outputs": [],
   "source": [
    "bin_NatoK = [0, 9, 19, 29, 50]\n",
    "category_NatoK = ['<10', '10-20', '20-30', '>30']\n",
    "data['Na_to_K_binned'] = pd.cut(data['Na_to_K'], bins=bin_NatoK, labels=category_NatoK)\n",
    "data = data.drop(['Na_to_K'], axis = 1)"
   ]
  },
  {
   "cell_type": "code",
   "execution_count": null,
   "metadata": {
    "id": "nmbFB6HaBc6z"
   },
   "outputs": [],
   "source": [
    "X=data.drop(['Drug'], axis=1)\n",
    "y=data['Drug']"
   ]
  },
  {
   "cell_type": "code",
   "execution_count": null,
   "metadata": {
    "id": "YjURj5CKB27y"
   },
   "outputs": [],
   "source": [
    "from sklearn.model_selection import train_test_split\n",
    "X_train, X_test, y_train, y_test = train_test_split(X, y, test_size=0.2, random_state=42)"
   ]
  },
  {
   "cell_type": "code",
   "execution_count": null,
   "metadata": {
    "id": "aTsJ3zFcCBEv"
   },
   "outputs": [],
   "source": [
    "X_train=pd.get_dummies(X_train)\n",
    "X_test=pd.get_dummies(X_test)"
   ]
  },
  {
   "cell_type": "code",
   "execution_count": null,
   "metadata": {
    "id": "24lVkXnsDlW_"
   },
   "outputs": [],
   "source": [
    "X_train,X_test=X_train.align(X_test, join='inner', axis=1, fill_value=0)\n",
    "X_train=X_train.astype(int)"
   ]
  },
  {
   "cell_type": "code",
   "execution_count": null,
   "metadata": {
    "colab": {
     "base_uri": "https://localhost:8080/"
    },
    "id": "-X-7RRaGDRF7",
    "outputId": "031dc99e-9e35-4b49-828d-9288d7ae03a7"
   },
   "outputs": [],
   "source": [
    "data.info()"
   ]
  },
  {
   "cell_type": "code",
   "execution_count": null,
   "metadata": {
    "id": "N82_kqpNCUyX"
   },
   "outputs": [],
   "source": [
    "from imblearn.over_sampling import SMOTE\n",
    "smote = SMOTE()\n",
    "X_train, y_train = smote.fit_resample(X_train, y_train)"
   ]
  },
  {
   "cell_type": "code",
   "execution_count": null,
   "metadata": {
    "colab": {
     "base_uri": "https://localhost:8080/",
     "height": 460
    },
    "id": "TjTKQbLpDBkh",
    "outputId": "60734c5c-1f55-4ae9-b7bc-ebab0b3304e1"
   },
   "outputs": [],
   "source": [
    "X_train"
   ]
  },
  {
   "cell_type": "code",
   "execution_count": null,
   "metadata": {
    "colab": {
     "base_uri": "https://localhost:8080/",
     "height": 79
    },
    "id": "2tDlQSzlDcst",
    "outputId": "fd4ac649-1c88-47aa-9a5d-4e31493e940f"
   },
   "outputs": [],
   "source": [
    "from sklearn.svm import SVC\n",
    "# linear, poly, rbf, sigmoid\n",
    "model = SVC(kernel='rbf')\n",
    "model.fit(X_train, y_train)"
   ]
  },
  {
   "cell_type": "code",
   "execution_count": null,
   "metadata": {
    "id": "RXzO-hPrFOlA"
   },
   "outputs": [],
   "source": [
    "y_pred=model.predict(X_test)"
   ]
  },
  {
   "cell_type": "code",
   "execution_count": null,
   "metadata": {
    "colab": {
     "base_uri": "https://localhost:8080/"
    },
    "id": "XIO5iyHwFQsx",
    "outputId": "8cca5d98-10f5-4f8c-9f2c-d7ec35925a83"
   },
   "outputs": [],
   "source": [
    "from sklearn.metrics import classification_report\n",
    "print(classification_report(y_test, y_pred))"
   ]
  },
  {
   "cell_type": "code",
   "execution_count": null,
   "metadata": {},
   "outputs": [],
   "source": []
  }
 ],
 "metadata": {
  "colab": {
   "provenance": []
  },
  "kernelspec": {
   "display_name": "Python 3 (ipykernel)",
   "language": "python",
   "name": "python3"
  },
  "language_info": {
   "codemirror_mode": {
    "name": "ipython",
    "version": 3
   },
   "file_extension": ".py",
   "mimetype": "text/x-python",
   "name": "python",
   "nbconvert_exporter": "python",
   "pygments_lexer": "ipython3",
   "version": "3.12.4"
  }
 },
 "nbformat": 4,
 "nbformat_minor": 4
}
